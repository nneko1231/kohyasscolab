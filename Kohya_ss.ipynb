{
  "nbformat": 4,
  "nbformat_minor": 0,
  "metadata": {
    "colab": {
      "provenance": [],
      "gpuType": "T4",
      "authorship_tag": "ABX9TyO6tgItpUZA/LLw5FjB0W9E",
      "include_colab_link": true
    },
    "kernelspec": {
      "name": "python3",
      "display_name": "Python 3"
    },
    "language_info": {
      "name": "python"
    },
    "accelerator": "GPU"
  },
  "cells": [
    {
      "cell_type": "markdown",
      "metadata": {
        "id": "view-in-github",
        "colab_type": "text"
      },
      "source": [
        "<a href=\"https://colab.research.google.com/github/nneko1231/kohyasscolab/blob/main/Kohya_ss.ipynb\" target=\"_parent\"><img src=\"https://colab.research.google.com/assets/colab-badge.svg\" alt=\"Open In Colab\"/></a>"
      ]
    },
    {
      "cell_type": "code",
      "source": [
        "#@title Drive\n",
        "from google.colab import drive\n",
        "drive.mount('/content/drive')"
      ],
      "metadata": {
        "cellView": "form",
        "id": "XIUygrN9KZie"
      },
      "execution_count": null,
      "outputs": []
    },
    {
      "cell_type": "code",
      "metadata": {
        "cellView": "form",
        "id": "X08p3B1816kX"
      },
      "source": [
        "import shutil\n",
        "import os\n",
        "\n",
        "#@markdown Path to the source file or directory\n",
        "source_path = \"\" #@param {type:\"string\"}\n",
        "\n",
        "#@markdown Path to the destination directory or the new path for the item\n",
        "destination_path = \"\" #@param {type:\"string\"}\n",
        "\n",
        "\n",
        "def move_item(source_path, destination_path):\n",
        "  \"\"\"Moves a file or directory from source to destination.\n",
        "\n",
        "  Args:\n",
        "    source_path: The path to the file or directory to move.\n",
        "    destination_path: The path to the destination directory or the new path for the item.\n",
        "  \"\"\"\n",
        "  try:\n",
        "    shutil.move(source_path, destination_path)\n",
        "    print(f\"Successfully moved '{source_path}' to '{destination_path}'\")\n",
        "  except FileNotFoundError:\n",
        "    print(f\"Error: Source file or directory not found at '{source_path}'\")\n",
        "  except IsADirectoryError:\n",
        "      print(f\"Error: Destination '{destination_path}' is a directory, but source '{source_path}' is also a directory. Please provide a new name for the directory at the destination.\")\n",
        "  except Exception as e:\n",
        "    print(f\"An error occurred while moving: {e}\")\n",
        "\n",
        "# Example usage with the defined parameters\n",
        "if source_path and destination_path:\n",
        "    move_item(source_path, destination_path)\n",
        "else:\n",
        "    print(\"Please provide both the source path and the destination path.\")"
      ],
      "execution_count": null,
      "outputs": []
    },
    {
      "cell_type": "code",
      "source": [
        "# prompt: buatkan code untuk melakukan unzip untuk menentukan lokasinya berikan param untuk input dan outputnya\n",
        "\n",
        "import zipfile\n",
        "\n",
        "#@markdown Path to the zip file\n",
        "zip_file_path = \"\" #@param {type:\"string\"}\n",
        "\n",
        "#@markdown Path to the directory where the contents will be extracted\n",
        "extract_destination = \"\" #@param {type:\"string\"}\n",
        "\n",
        "def unzip_file(zip_path, dest_path):\n",
        "    \"\"\"\n",
        "    Unzips a zip file to a specified destination directory.\n",
        "\n",
        "    Args:\n",
        "        zip_path (str): The path to the zip file.\n",
        "        dest_path (str): The path to the directory where the contents will be extracted.\n",
        "    \"\"\"\n",
        "    try:\n",
        "        with zipfile.ZipFile(zip_path, 'r') as zip_ref:\n",
        "            zip_ref.extractall(dest_path)\n",
        "        print(f\"Successfully unzipped '{zip_path}' to '{dest_path}'\")\n",
        "    except FileNotFoundError:\n",
        "        print(f\"Error: Zip file not found at '{zip_path}'\")\n",
        "    except zipfile.BadZipFile:\n",
        "        print(f\"Error: '{zip_path}' is not a valid zip file.\")\n",
        "    except Exception as e:\n",
        "        print(f\"An error occurred during unzipping: {e}\")\n",
        "\n",
        "# Example usage with the defined parameters\n",
        "if zip_file_path and extract_destination:\n",
        "    unzip_file(zip_file_path, extract_destination)\n",
        "else:\n",
        "    print(\"Please provide both the zip file path and the extract destination.\")"
      ],
      "metadata": {
        "cellView": "form",
        "id": "5ViH669TO3qK"
      },
      "execution_count": null,
      "outputs": []
    },
    {
      "cell_type": "code",
      "source": [
        "# prompt: tambahkan code untuk menghapus file atau folder tambahkan paramnya\n",
        "\n",
        "#@markdown Path to the file or directory to delete\n",
        "item_to_delete = \"\" #@param {type:\"string\"}\n",
        "\n",
        "def delete_item(item_path):\n",
        "  \"\"\"Deletes a file or directory.\n",
        "\n",
        "  Args:\n",
        "    item_path: The path to the file or directory to delete.\n",
        "  \"\"\"\n",
        "  try:\n",
        "    if os.path.isfile(item_path):\n",
        "      os.remove(item_path)\n",
        "      print(f\"Successfully deleted file: '{item_path}'\")\n",
        "    elif os.path.isdir(item_path):\n",
        "      shutil.rmtree(item_path)\n",
        "      print(f\"Successfully deleted directory: '{item_path}'\")\n",
        "    else:\n",
        "      print(f\"Error: '{item_path}' is not a valid file or directory path.\")\n",
        "  except FileNotFoundError:\n",
        "    print(f\"Error: File or directory not found at '{item_path}'\")\n",
        "  except Exception as e:\n",
        "    print(f\"An error occurred while deleting: {e}\")\n",
        "\n",
        "# Example usage with the defined parameter\n",
        "if item_to_delete:\n",
        "    delete_item(item_to_delete)\n",
        "else:\n",
        "    print(\"Please provide the path to the item you want to delete.\")"
      ],
      "metadata": {
        "cellView": "form",
        "id": "tHG-pCbONtvg"
      },
      "execution_count": null,
      "outputs": []
    },
    {
      "cell_type": "code",
      "source": [
        "#@title Clone Kohya_ss\n",
        "!git clone --recursive https://github.com/bmaltais/kohya_ss.git\n",
        "%cd kohya_ss"
      ],
      "metadata": {
        "cellView": "form",
        "id": "7UyLAXSGE8Bb"
      },
      "execution_count": null,
      "outputs": []
    },
    {
      "cell_type": "code",
      "source": [
        "#@title Installation\n",
        "# Pastikan tqdm tidak digunakan lagi\n",
        "import subprocess\n",
        "import time\n",
        "import os\n",
        "\n",
        "def run_shell_script_with_live_output_no_progress(script_path):\n",
        "    \"\"\"\n",
        "    Menjalankan shell script dengan output real-time tanpa progress bar.\n",
        "\n",
        "    - script_path: path ke file shell script (misal \"/content/kohya_ss/setup.sh\")\n",
        "    \"\"\"\n",
        "    # Pastikan file bisa dieksekusi\n",
        "    os.chmod(script_path, 0o755)\n",
        "\n",
        "    print(f\"Menjalankan: {script_path}\")\n",
        "    start_time = time.time()\n",
        "\n",
        "    # Jalankan proses shell\n",
        "    process = subprocess.Popen(\n",
        "        [script_path],\n",
        "        stdout=subprocess.PIPE,\n",
        "        stderr=subprocess.STDOUT,\n",
        "        text=True,\n",
        "        bufsize=1\n",
        "    )\n",
        "\n",
        "    # Tampilkan output secara real-time\n",
        "    while True:\n",
        "        line = process.stdout.readline()\n",
        "        if line:\n",
        "            print(line.strip())\n",
        "        if process.poll() is not None:\n",
        "            break\n",
        "\n",
        "    process.wait()  # Tunggu proses selesai\n",
        "\n",
        "    # Tampilkan hasil akhir\n",
        "    if process.returncode == 0:\n",
        "        print(f\"\\n✅ Setup selesai dengan sukses dalam {time.time() - start_time:.2f} detik.\")\n",
        "    else:\n",
        "        print(f\"\\n❌ Setup gagal dengan kode keluar {process.returncode}.\")\n",
        "\n",
        "# Contoh pemanggilan:\n",
        "run_shell_script_with_live_output_no_progress(\"/content/kohya_ss/setup.sh\")"
      ],
      "metadata": {
        "cellView": "form",
        "id": "be0oGvLVUpw7"
      },
      "execution_count": null,
      "outputs": []
    },
    {
      "cell_type": "code",
      "source": [
        "#@title Run\n",
        "!python kohya_gui.py --share --headless"
      ],
      "metadata": {
        "cellView": "form",
        "id": "BSJGsOPnGFjS"
      },
      "execution_count": null,
      "outputs": []
    }
  ]
}