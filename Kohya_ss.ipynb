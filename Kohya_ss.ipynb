{
  "nbformat": 4,
  "nbformat_minor": 0,
  "metadata": {
    "colab": {
      "provenance": [],
      "gpuType": "T4",
      "authorship_tag": "ABX9TyMCvG1wUa88YQ2zlzw8nocM",
      "include_colab_link": true
    },
    "kernelspec": {
      "name": "python3",
      "display_name": "Python 3"
    },
    "language_info": {
      "name": "python"
    },
    "accelerator": "GPU"
  },
  "cells": [
    {
      "cell_type": "markdown",
      "metadata": {
        "id": "view-in-github",
        "colab_type": "text"
      },
      "source": [
        "<a href=\"https://colab.research.google.com/github/nneko1231/kohyasscolab/blob/main/Kohya_ss.ipynb\" target=\"_parent\"><img src=\"https://colab.research.google.com/assets/colab-badge.svg\" alt=\"Open In Colab\"/></a>"
      ]
    },
    {
      "cell_type": "markdown",
      "source": [
        "How to Use in Colab\n",
        "\n",
        "1. Create the Dataset\n",
        "  - Make a folder for each dataset.\n",
        "  - The folder name should follow this format:\n",
        "  - [number of images]_[folder name]\n",
        "  - Example: 40_example (means 40 images in the folder)\n",
        "\n",
        "2. Add the Dataset to the Correct Path\n",
        "  - Place your dataset folder inside:\n",
        "  - content/dataset/image/\n",
        "  - So the full path will be:\n",
        "  - content/dataset/image/40_example/40_example\n",
        "  - (Yes, the folder is repeated inside)\n",
        "\n",
        "3. Dataset Path in Code\n",
        "  - When you refer to the dataset path in your code, use:\n",
        "  -content/dataset/image/40_example"
      ],
      "metadata": {
        "id": "BVOGapg5Bc3J"
      }
    },
    {
      "cell_type": "code",
      "source": [
        "#@title Drive\n",
        "from google.colab import drive\n",
        "drive.mount('/content/drive')\n",
        "\n",
        "import os\n",
        "\n",
        "# Membuat folder 'Dataset' di /content/\n",
        "os.makedirs('/content/Dataset', exist_ok=True)\n",
        "\n",
        "# Membuat sub-folder di dalam 'Dataset'\n",
        "os.makedirs('/content/Dataset/image', exist_ok=True)\n",
        "os.makedirs('/content/Dataset/logs', exist_ok=True)\n",
        "os.makedirs('/content/Dataset/regularization', exist_ok=True)\n",
        "os.makedirs('/content/Dataset/outputs', exist_ok=True)\n",
        "\n",
        "# Membuat folder 'output' di /content/\n",
        "os.makedirs('/content/output', exist_ok=True)\n",
        "\n",
        "print(\"Folder 'Dataset' dan 'output' serta sub-folder di dalamnya telah dibuat.\")"
      ],
      "metadata": {
        "cellView": "form",
        "id": "XIUygrN9KZie"
      },
      "execution_count": null,
      "outputs": []
    },
    {
      "cell_type": "code",
      "metadata": {
        "cellView": "form",
        "id": "X08p3B1816kX"
      },
      "source": [
        "import shutil\n",
        "import os\n",
        "\n",
        "#@markdown Path to the source file or directory\n",
        "source_path = \"\" #@param {type:\"string\"}\n",
        "\n",
        "#@markdown Path to the destination directory or the new path for the item\n",
        "destination_path = \"\" #@param {type:\"string\"}\n",
        "\n",
        "\n",
        "def move_item(source_path, destination_path):\n",
        "  \"\"\"Moves a file or directory from source to destination.\n",
        "\n",
        "  Args:\n",
        "    source_path: The path to the file or directory to move.\n",
        "    destination_path: The path to the destination directory or the new path for the item.\n",
        "  \"\"\"\n",
        "  try:\n",
        "    shutil.move(source_path, destination_path)\n",
        "    print(f\"Successfully moved '{source_path}' to '{destination_path}'\")\n",
        "  except FileNotFoundError:\n",
        "    print(f\"Error: Source file or directory not found at '{source_path}'\")\n",
        "  except IsADirectoryError:\n",
        "      print(f\"Error: Destination '{destination_path}' is a directory, but source '{source_path}' is also a directory. Please provide a new name for the directory at the destination.\")\n",
        "  except Exception as e:\n",
        "    print(f\"An error occurred while moving: {e}\")\n",
        "\n",
        "# Example usage with the defined parameters\n",
        "if source_path and destination_path:\n",
        "    move_item(source_path, destination_path)\n",
        "else:\n",
        "    print(\"Please provide both the source path and the destination path.\")"
      ],
      "execution_count": null,
      "outputs": []
    },
    {
      "cell_type": "code",
      "source": [
        "# prompt: buatkan code untuk melakukan unzip untuk menentukan lokasinya berikan param untuk input dan outputnya\n",
        "\n",
        "import zipfile\n",
        "\n",
        "#@markdown Path to the zip file\n",
        "zip_file_path = \"\" #@param {type:\"string\"}\n",
        "\n",
        "#@markdown Path to the directory where the contents will be extracted\n",
        "extract_destination = \"\" #@param {type:\"string\"}\n",
        "\n",
        "def unzip_file(zip_path, dest_path):\n",
        "    \"\"\"\n",
        "    Unzips a zip file to a specified destination directory.\n",
        "\n",
        "    Args:\n",
        "        zip_path (str): The path to the zip file.\n",
        "        dest_path (str): The path to the directory where the contents will be extracted.\n",
        "    \"\"\"\n",
        "    try:\n",
        "        with zipfile.ZipFile(zip_path, 'r') as zip_ref:\n",
        "            zip_ref.extractall(dest_path)\n",
        "        print(f\"Successfully unzipped '{zip_path}' to '{dest_path}'\")\n",
        "    except FileNotFoundError:\n",
        "        print(f\"Error: Zip file not found at '{zip_path}'\")\n",
        "    except zipfile.BadZipFile:\n",
        "        print(f\"Error: '{zip_path}' is not a valid zip file.\")\n",
        "    except Exception as e:\n",
        "        print(f\"An error occurred during unzipping: {e}\")\n",
        "\n",
        "# Example usage with the defined parameters\n",
        "if zip_file_path and extract_destination:\n",
        "    unzip_file(zip_file_path, extract_destination)\n",
        "else:\n",
        "    print(\"Please provide both the zip file path and the extract destination.\")"
      ],
      "metadata": {
        "cellView": "form",
        "id": "5ViH669TO3qK"
      },
      "execution_count": null,
      "outputs": []
    },
    {
      "cell_type": "code",
      "source": [
        "# prompt: tambahkan code untuk menghapus file atau folder tambahkan paramnya\n",
        "\n",
        "#@markdown Path to the file or directory to delete\n",
        "item_to_delete = \"\" #@param {type:\"string\"}\n",
        "\n",
        "def delete_item(item_path):\n",
        "  \"\"\"Deletes a file or directory.\n",
        "\n",
        "  Args:\n",
        "    item_path: The path to the file or directory to delete.\n",
        "  \"\"\"\n",
        "  try:\n",
        "    if os.path.isfile(item_path):\n",
        "      os.remove(item_path)\n",
        "      print(f\"Successfully deleted file: '{item_path}'\")\n",
        "    elif os.path.isdir(item_path):\n",
        "      shutil.rmtree(item_path)\n",
        "      print(f\"Successfully deleted directory: '{item_path}'\")\n",
        "    else:\n",
        "      print(f\"Error: '{item_path}' is not a valid file or directory path.\")\n",
        "  except FileNotFoundError:\n",
        "    print(f\"Error: File or directory not found at '{item_path}'\")\n",
        "  except Exception as e:\n",
        "    print(f\"An error occurred while deleting: {e}\")\n",
        "\n",
        "# Example usage with the defined parameter\n",
        "if item_to_delete:\n",
        "    delete_item(item_to_delete)\n",
        "else:\n",
        "    print(\"Please provide the path to the item you want to delete.\")"
      ],
      "metadata": {
        "cellView": "form",
        "id": "tHG-pCbONtvg"
      },
      "execution_count": null,
      "outputs": []
    },
    {
      "cell_type": "code",
      "source": [
        "#@title Clone Kohya_ss\n",
        "!git clone --recursive https://github.com/bmaltais/kohya_ss.git\n",
        "!pip install torch torchvision torchaudio --index-url https://download.pytorch.org/whl/cu128\n",
        "%cd kohya_ss"
      ],
      "metadata": {
        "cellView": "form",
        "id": "7UyLAXSGE8Bb"
      },
      "execution_count": null,
      "outputs": []
    },
    {
      "cell_type": "markdown",
      "source": [
        "Open terminal and type\n",
        "\n",
        "```\n",
        "sudo apt update\n",
        "sudo apt install python3.11 python3.11-venv git\n",
        "cd kohya_ss\n",
        "./gui-uv.sh --listen 127.0.0.1 --server_port 7860 --inbrowser --share\n",
        "```\n",
        "\n"
      ],
      "metadata": {
        "id": "GgLzEADNwwZN"
      }
    }
  ]
}